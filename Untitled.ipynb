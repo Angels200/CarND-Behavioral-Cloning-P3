{
 "cells": [
  {
   "cell_type": "code",
   "execution_count": 24,
   "metadata": {
    "collapsed": false,
    "scrolled": true
   },
   "outputs": [
    {
     "name": "stdout",
     "output_type": "stream",
     "text": [
      "(160, 320, 3)\n",
      "(112, 160, 320, 3)\n",
      "(112,)\n"
     ]
    }
   ],
   "source": [
    "import csv\n",
    "import cv2\n",
    "import numpy as np\n",
    "import codecs\n",
    "import sys\n",
    "\n",
    "#filename = 'driving_log.csv'\n",
    "filename = 'Untitled 1.csv'\n",
    "\n",
    "lines=[]\n",
    "#with open('driving_log.csv',encoding=\"latin-1\") as csvfile :\n",
    "with codecs.open(filename, \"r\",encoding='utf-8', errors='ignore') as csvfile:\n",
    "    reader = csv.reader(csvfile)\n",
    "    try :\n",
    "        for line in reader:\n",
    "            lines.append(line)\n",
    "    except csv.Error as e:\n",
    "        sys.exit('file %s, line %d: %s' % (filename, reader.line_num, e))\n",
    "\n",
    "width,height,channel=0,0,0\n",
    "images,measurements = [],[]\n",
    "for line in lines:\n",
    "    fname = line[0]\n",
    "    path = '/home/naaman/Projects/CarND-Behavioral-Cloning-P3/IMG/' + fname\n",
    "    #print(path)\n",
    "    image = cv2.imread(path)\n",
    "    #print(image)\n",
    "    width,height,channel = image.shape\n",
    "    images.append(image)\n",
    "    measurement = float(line[3])\n",
    "    measurements.append(measurement)\n",
    "print(images[0].shape)  \n",
    "X_train = np.array(images).reshape(len(images),images[0].shape[0],images[0].shape[1],images[0].shape[2])\n",
    "y_train = np.array(measurements)\n",
    "print(X_train.shape)\n",
    "print(y_train.shape)\n"
   ]
  },
  {
   "cell_type": "code",
   "execution_count": 30,
   "metadata": {
    "collapsed": false
   },
   "outputs": [
    {
     "name": "stdout",
     "output_type": "stream",
     "text": [
      "Train on 89 samples, validate on 23 samples\n",
      "Epoch 1/10\n",
      "89/89 [==============================] - 12s - loss: 0.0484 - acc: 0.0000e+00 - val_loss: 0.1201 - val_acc: 0.7391\n",
      "Epoch 2/10\n",
      "89/89 [==============================] - 11s - loss: 5.8292 - acc: 0.0000e+00 - val_loss: 7.4389e-04 - val_acc: 0.7391\n",
      "Epoch 3/10\n",
      "89/89 [==============================] - 11s - loss: 0.1691 - acc: 0.0000e+00 - val_loss: 9.9937e-04 - val_acc: 0.7391\n",
      "Epoch 4/10\n",
      "89/89 [==============================] - 11s - loss: 0.0159 - acc: 0.0000e+00 - val_loss: 5.2030e-04 - val_acc: 0.7391\n",
      "Epoch 5/10\n",
      "89/89 [==============================] - 11s - loss: 0.0093 - acc: 0.0000e+00 - val_loss: 9.4429e-04 - val_acc: 0.7391\n",
      "Epoch 6/10\n",
      "89/89 [==============================] - 11s - loss: 0.0057 - acc: 0.0000e+00 - val_loss: 7.6621e-04 - val_acc: 0.7391\n",
      "Epoch 7/10\n",
      "89/89 [==============================] - 11s - loss: 0.0047 - acc: 0.0000e+00 - val_loss: 5.0978e-04 - val_acc: 0.7391\n",
      "Epoch 8/10\n",
      "89/89 [==============================] - 12s - loss: 0.0045 - acc: 0.0000e+00 - val_loss: 5.0447e-04 - val_acc: 0.7391\n",
      "Epoch 9/10\n",
      "89/89 [==============================] - 12s - loss: 0.0038 - acc: 0.0000e+00 - val_loss: 4.8631e-04 - val_acc: 0.7391\n",
      "Epoch 10/10\n",
      "89/89 [==============================] - 12s - loss: 0.0039 - acc: 0.0000e+00 - val_loss: 4.9290e-04 - val_acc: 0.7391\n"
     ]
    }
   ],
   "source": [
    "from keras.models import Sequential\n",
    "from keras.layers import Dense, Dropout, Activation, Flatten\n",
    "from keras.layers import Convolution2D, MaxPooling2D\n",
    "from keras.optimizers import SGD, Adam, RMSprop\n",
    "from keras.utils import np_utils\n",
    "from keras import backend as K\n",
    "\n",
    "model = Sequential()\n",
    "model.add(Convolution2D(18, 5, 5, border_mode='valid', input_shape=X_train[0].shape))\n",
    "model.add(Activation('relu'))\n",
    "model.add(Convolution2D(36, 5, 5, border_mode='valid'))\n",
    "model.add(Activation('relu'))\n",
    "model.add(MaxPooling2D(pool_size=(5,5)))\n",
    "model.add(Convolution2D(72, 5, 5, border_mode='valid'))\n",
    "model.add(Activation('relu'))\n",
    "model.add(MaxPooling2D(pool_size=(5,5)))\n",
    "model.add(Convolution2D(144, 5, 5, border_mode='valid'))\n",
    "model.add(Activation('relu'))\n",
    "model.add(Dropout(0.25))\n",
    "\n",
    "model.add(Flatten())\n",
    "model.add(Dense(16))\n",
    "model.add(Activation('relu'))\n",
    "model.add(Dense(16))\n",
    "model.add(Activation('relu'))\n",
    "model.add(Dense(16))\n",
    "model.add(Activation('relu'))\n",
    "model.add(Dropout(0.5))\n",
    "model.add(Dense(1))\n",
    "\n",
    "model.compile(loss='mse', optimizer=Adam(),metrics=['accuracy'])\n",
    "model.fit(X_train, y_train, batch_size=128, nb_epoch=10, \n",
    "                    verbose=1, validation_split=0.2, shuffle=True)\n",
    "model.save('model.h5')\n"
   ]
  },
  {
   "cell_type": "code",
   "execution_count": null,
   "metadata": {
    "collapsed": true
   },
   "outputs": [],
   "source": []
  }
 ],
 "metadata": {
  "kernelspec": {
   "display_name": "Python 3",
   "language": "python",
   "name": "python3"
  },
  "language_info": {
   "codemirror_mode": {
    "name": "ipython",
    "version": 3
   },
   "file_extension": ".py",
   "mimetype": "text/x-python",
   "name": "python",
   "nbconvert_exporter": "python",
   "pygments_lexer": "ipython3",
   "version": "3.5.2"
  }
 },
 "nbformat": 4,
 "nbformat_minor": 2
}
